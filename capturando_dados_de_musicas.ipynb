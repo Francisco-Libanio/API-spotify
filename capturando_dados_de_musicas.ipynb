{
 "cells": [
  {
   "cell_type": "markdown",
   "id": "cc84f8fa",
   "metadata": {},
   "source": [
    "# Capturando dadoss de músicas \n",
    "\n",
    "# Documentação Técnica\n",
    "\n",
    "## Objetivo\n",
    "O código tem como objetivo obter informações sobre músicas e artistas a partir de um dicionário contendo pares de artistas e músicas. Utilizando a biblioteca Spotipy, Python e o Pandas, o script busca informações como nome da música, nome do artista, gênero, ano de lançamento e duração da música. As informações coletadas são armazenadas em um DataFrame Pandas.\n",
    "\n",
    "## Estrutura do Código\n",
    "O código é estruturado em um loop que percorre cada par de artista e música no dicionário `dicionario_de_música`. Para cada par, é feita uma busca na API do Spotify para obter informações detalhadas da música. Se a busca retornar resultados, as informações relevantes são extraídas e adicionadas a uma lista chamada `data`, que acumula dados de várias músicas. Após o loop, a lista `data` é transformada em um DataFrame Pandas chamado `df_musicas`, que é exibido na saída padrão.\n",
    "\n",
    "## Variáveis Principais\n",
    "- **dicionario_de_música:** Dicionário contendo pares de artista e música.\n",
    "- **data:** Lista para armazenar os dados temporariamente durante a execução do loop.\n",
    "- **df_musicas:** DataFrame Pandas final que armazena as informações consolidadas de todas as músicas.\n",
    "\n",
    "## Funcionamento Detalhado\n",
    "1. **Loop Principal:**\n",
    "   - Percorre cada par de artista e música em `dicionario_de_música`.\n",
    "   - Realiza uma busca na API do Spotify para obter informações da música específica.\n",
    "   - Se a busca retornar resultados, as informações são extraídas.\n",
    "   - As informações extraídas são adicionadas à lista `data`.\n",
    "\n",
    "2. **Extração de Informações:**\n",
    "   - Nome da música (`nome_musica`).\n",
    "   - Nome do artista (`nome_artista`).\n",
    "   - Ano de lançamento (`ano_lancamento`).\n",
    "   - Gênero da música (`genero`).\n",
    "   - Duração da música em minutos (`tempo_musica_min`).\n",
    "\n",
    "3. **Armazenamento de Dados:**\n",
    "   - As informações extraídas são armazenadas em uma lista chamada `info_dad_musica`.\n",
    "   - A lista `info_dad_musica` é adicionada à lista `data`.\n",
    "\n",
    "4. **Criação do DataFrame:**\n",
    "   - Após o loop, a lista `data` é convertida em um DataFrame Pandas chamado `df_musicas`.\n",
    "   - As colunas do DataFrame são nomeadas de acordo com as informações coletadas.\n",
    "\n",
    "5. **Exibição do Resultado:**\n",
    "   - O DataFrame `df_musicas` é exibido na saída padrão.\n",
    "\n",
    "## Considerações Finais\n",
    "O código fornece uma maneira eficiente de obter informações detalhadas sobre músicas e artistas a partir de um dicionário. A estrutura modular permite fácil adaptação para diferentes conjuntos de dados e necessidades específicas. Certifique-se de ter as bibliotecas Spotipy e Pandas instaladas para executar o código com sucesso."
   ]
  },
  {
   "cell_type": "code",
   "execution_count": null,
   "id": "13208569",
   "metadata": {},
   "outputs": [],
   "source": [
    "import pandas as pd\n",
    "import spotipy\n",
    "from spotipy.oauth2 import SpotifyClientCredentials\n",
    "\n",
    "# Configurar as credenciais do cliente do Spotify\n",
    "client_id = 'CLIENT_ID'\n",
    "client_secret = 'CLIENT_SECRET'\n",
    "client_credentials_manager = SpotifyClientCredentials(client_id=client_id, client_secret=client_secret)\n",
    "sp = spotipy.Spotify(client_credentials_manager=client_credentials_manager)"
   ]
  },
  {
   "cell_type": "code",
   "execution_count": null,
   "id": "25dd74df",
   "metadata": {},
   "outputs": [],
   "source": [
    "dicionario_de_música ={'Artista':'nome da música'}"
   ]
  },
  {
   "cell_type": "code",
   "execution_count": null,
   "id": "718b8e89",
   "metadata": {},
   "outputs": [],
   "source": [
    "data = []  # Lista para armazenar os dados\n",
    "\n",
    "for artista, musica in dicionario_de_música.items():\n",
    "    resultados = sp.search(q=f'artist:{artista} track:{musica}', type='track')\n",
    "\n",
    "    if resultados['tracks']['items']:\n",
    "        track_info = resultados['tracks']['items'][0]\n",
    "        nome_musica = track_info['name']\n",
    "        nome_artista = track_info['artists'][0]['name']\n",
    "        ano_lancamento = track_info['album']['release_date'][:4]\n",
    "\n",
    "        if sp.artist(track_info['artists'][0]['id'])['genres']:\n",
    "            genero = sp.artist(track_info['artists'][0]['id'])['genres'][0]\n",
    "        else:\n",
    "            genero = \"Gênero não disponível\"\n",
    "\n",
    "        tempo_musica_ms = track_info['duration_ms']\n",
    "        tempo_musica_min =round(tempo_musica_ms / 60000,2)\n",
    "        temp_str=str(tempo_musica_min)[:4]\n",
    "\n",
    "        info_dad_musica = [nome_artista, nome_musica, genero, ano_lancamento, tempo_musica_min]\n",
    "        data.append(info_dad_musica)\n",
    "        df_musicas =pd.DataFrame(data, columns = ['nome do artista', 'nome da musica', 'genero','ano de lançamento','tempo'])\n",
    "\n",
    "    else:\n",
    "        print(f\"'{artista}':'{musica}',\")\n",
    "display(df_musicas)\n"
   ]
  }
 ],
 "metadata": {
  "kernelspec": {
   "display_name": "Python 3 (ipykernel)",
   "language": "python",
   "name": "python3"
  },
  "language_info": {
   "codemirror_mode": {
    "name": "ipython",
    "version": 3
   },
   "file_extension": ".py",
   "mimetype": "text/x-python",
   "name": "python",
   "nbconvert_exporter": "python",
   "pygments_lexer": "ipython3",
   "version": "3.11.5"
  }
 },
 "nbformat": 4,
 "nbformat_minor": 5
}
