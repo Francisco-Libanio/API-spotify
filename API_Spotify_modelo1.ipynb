{
 "cells": [
  {
   "cell_type": "markdown",
   "id": "ddd592b7",
   "metadata": {},
   "source": [
    "## Este notebook Python é destinado a acessar a API do Spotify para obter informações sobre álbuns de um artista específico. \n",
    "## Ele utiliza credenciais de autenticação fornecidas pelo Spotify para obter um token de acesso e, em seguida, faz uma solicitação à API para recuperar os álbuns do artista.\n"
   ]
  },
  {
   "cell_type": "markdown",
   "id": "d3aab9c2",
   "metadata": {},
   "source": [
    "### O código começa importando as bibliotecas necessárias:\n",
    "\n",
    "- `dotenv` para carregar variáveis de ambiente a partir de um arquivo `.env`.\n",
    "- `os` para interagir com o sistema operacional.\n",
    "- `base64` para codificar as credenciais em Base64.\n",
    "- `requests` para realizar solicitações HTTP.\n",
    "- `pprint` para exibir os dados de forma mais legível."
   ]
  },
  {
   "cell_type": "code",
   "execution_count": null,
   "id": "5a6949c4",
   "metadata": {},
   "outputs": [],
   "source": [
    "from dotenv import load_dotenv\n",
    "import os\n",
    "import base64\n",
    "import requests\n",
    "from pprint import pprint"
   ]
  },
  {
   "cell_type": "code",
   "execution_count": null,
   "id": "65e31baa",
   "metadata": {},
   "outputs": [],
   "source": [
    "load_dotenv()"
   ]
  },
  {
   "cell_type": "markdown",
   "id": "7752298d",
   "metadata": {},
   "source": [
    "### Autenticação\n",
    "A autenticação é realizada obtendo as credenciais (client_id e client_secret) do arquivo .env, codificando-as em Base64 e fazendo uma solicitação POST para a API do Spotify para obter um token de acesso."
   ]
  },
  {
   "cell_type": "code",
   "execution_count": null,
   "id": "c9575ffc",
   "metadata": {},
   "outputs": [],
   "source": [
    "client_id = os.getenv(\"CLIENT_ID\")\n",
    "client_secret = os.getenv(\"CLIENT_SECRET\")\n",
    "credenciais = client_id,client_secret"
   ]
  },
  {
   "cell_type": "code",
   "execution_count": null,
   "id": "aea142ab",
   "metadata": {},
   "outputs": [],
   "source": [
    "import base64\n",
    "string = client_id +':'+ client_secret \n",
    "string_bytes = string.encode('ascii')\n",
    "base64_bytes = base64.b64encode(string_bytes)\n",
    "base64_string = base64_bytes.decode('ascii')"
   ]
  },
  {
   "cell_type": "code",
   "execution_count": null,
   "id": "14ec24ee",
   "metadata": {},
   "outputs": [],
   "source": [
    "\n",
    "url = 'https://accounts.spotify.com/api/token'\n",
    "\n",
    "headers = {\n",
    "        \"Authorization\": f\"Basic {base64_string}\", \n",
    "        \"Content-Type\": \"application/x-www-form-urlencoded\"}\n",
    "\n",
    "\n",
    "payload = {'grant_type': 'client_credentials'}\n",
    "\n",
    "response = requests.request('POST', url = url, headers = headers, data = payload)\n",
    "print (response) \n",
    "response.json()\n",
    "access_token = response.json()['access_token']\n",
    "print (access_token)"
   ]
  },
  {
   "cell_type": "markdown",
   "id": "0f824edf",
   "metadata": {},
   "source": [
    "### Acesso à API do Spotify\n",
    "Com o token de acesso obtido, o código realiza uma solicitação GET à API do Spotify para obter os álbuns de um artista específico."
   ]
  },
  {
   "cell_type": "code",
   "execution_count": null,
   "id": "398e38a8",
   "metadata": {},
   "outputs": [],
   "source": [
    "url = \"https://api.spotify.com/v1/artists/0TnOYISbd1XYRBk9myaseg/albums\"\n",
    "headers = {'Authorization': f'Bearer {access_token}'}\n",
    "response = requests.request('GET', url = url, headers = headers)\n",
    "print(response)\n",
    "response.json()\n",
    "pprint(response.json())"
   ]
  }
 ],
 "metadata": {
  "kernelspec": {
   "display_name": "Python 3 (ipykernel)",
   "language": "python",
   "name": "python3"
  },
  "language_info": {
   "codemirror_mode": {
    "name": "ipython",
    "version": 3
   },
   "file_extension": ".py",
   "mimetype": "text/x-python",
   "name": "python",
   "nbconvert_exporter": "python",
   "pygments_lexer": "ipython3",
   "version": "3.11.5"
  }
 },
 "nbformat": 4,
 "nbformat_minor": 5
}
